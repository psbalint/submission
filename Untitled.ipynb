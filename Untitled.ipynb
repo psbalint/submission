{
 "cells": [
  {
   "cell_type": "code",
   "execution_count": 1,
   "metadata": {},
   "outputs": [],
   "source": [
    "import pandas as pd"
   ]
  },
  {
   "cell_type": "code",
   "execution_count": 4,
   "metadata": {},
   "outputs": [],
   "source": [
    "X = pd.read_csv('md_raw_dataset.csv', sep = ';')"
   ]
  },
  {
   "cell_type": "code",
   "execution_count": 15,
   "metadata": {},
   "outputs": [],
   "source": [
    "y = pd.read_csv('md_target_dataset.csv', sep = ';')"
   ]
  },
  {
   "cell_type": "code",
   "execution_count": 105,
   "metadata": {},
   "outputs": [],
   "source": [
    "df = pd.merge(X, y,  how = 'left', left_on = ['Unnamed: 0', 'groups'], right_on = ['index', 'groups'])"
   ]
  },
  {
   "cell_type": "code",
   "execution_count": 106,
   "metadata": {},
   "outputs": [],
   "source": [
    "df = df[df['target'].notna()]"
   ]
  },
  {
   "cell_type": "code",
   "execution_count": 107,
   "metadata": {},
   "outputs": [],
   "source": [
    "df = df.drop(columns=['Unnamed: 0', 'tracking', 'when', 'expected_start', 'start_process',\n",
    "       'start_subprocess1', 'start_critical_subprocess1', 'pure_seastone', \n",
    "       'predicted_process_end', 'process_end', 'subprocess1_end',\n",
    "       'reported_on_tower', 'opened', 'index', 'etherium_before_start', 'raw_kryptonite'])"
   ]
  },
  {
   "cell_type": "code",
   "execution_count": 108,
   "metadata": {},
   "outputs": [],
   "source": [
    "df = df.rename(columns={'Unnamed: 7': 'unnamed_7th_column', 'Unnamed: 17': 'unnamed_17th_column', 'Cycle': 'cycle'})"
   ]
  },
  {
   "cell_type": "code",
   "execution_count": 109,
   "metadata": {},
   "outputs": [
    {
     "data": {
      "text/plain": [
       "Index(['super_hero_group', 'place', 'tracking_times', 'crystal_type',\n",
       "       'unnamed_7th_column', 'human_behavior_report', 'human_measure',\n",
       "       'crystal_weight', 'expected_factor_x', 'previous_factor_x',\n",
       "       'first_factor_x', 'expected_final_factor_x', 'final_factor_x',\n",
       "       'previous_adamantium', 'unnamed_17th_column', 'chemical_x', 'argon',\n",
       "       'crystal_supergroup', 'cycle', 'groups', 'target'],\n",
       "      dtype='object')"
      ]
     },
     "execution_count": 109,
     "metadata": {},
     "output_type": "execute_result"
    }
   ],
   "source": [
    "df.columns"
   ]
  },
  {
   "cell_type": "code",
   "execution_count": 110,
   "metadata": {},
   "outputs": [
    {
     "data": {
      "text/plain": [
       "super_hero_group             0\n",
       "place                        0\n",
       "tracking_times               0\n",
       "crystal_type                 0\n",
       "unnamed_7th_column           0\n",
       "human_behavior_report        0\n",
       "human_measure                0\n",
       "crystal_weight             238\n",
       "expected_factor_x            0\n",
       "previous_factor_x            0\n",
       "first_factor_x              98\n",
       "expected_final_factor_x      0\n",
       "final_factor_x             101\n",
       "previous_adamantium        250\n",
       "unnamed_17th_column         98\n",
       "chemical_x                 103\n",
       "argon                      317\n",
       "crystal_supergroup           0\n",
       "cycle                        0\n",
       "groups                       0\n",
       "target                       0\n",
       "dtype: int64"
      ]
     },
     "execution_count": 110,
     "metadata": {},
     "output_type": "execute_result"
    }
   ],
   "source": [
    "df.isna().sum()"
   ]
  },
  {
   "cell_type": "code",
   "execution_count": 111,
   "metadata": {},
   "outputs": [
    {
     "data": {
      "text/plain": [
       "(8544, 21)"
      ]
     },
     "execution_count": 111,
     "metadata": {},
     "output_type": "execute_result"
    }
   ],
   "source": [
    "df.shape"
   ]
  },
  {
   "cell_type": "code",
   "execution_count": 112,
   "metadata": {},
   "outputs": [],
   "source": [
    "df = df.fillna(df.mean())"
   ]
  },
  {
   "cell_type": "code",
   "execution_count": 113,
   "metadata": {},
   "outputs": [],
   "source": [
    "df2 = pd.get_dummies(df, columns = ['super_hero_group', 'crystal_supergroup', 'cycle', 'groups', 'human_behavior_report', \n",
    "                                   'unnamed_7th_column', 'place', 'tracking_times', 'crystal_type'])"
   ]
  },
  {
   "cell_type": "code",
   "execution_count": 114,
   "metadata": {},
   "outputs": [
    {
     "data": {
      "text/plain": [
       "327"
      ]
     },
     "execution_count": 114,
     "metadata": {},
     "output_type": "execute_result"
    }
   ],
   "source": [
    "len(df2.columns)"
   ]
  },
  {
   "cell_type": "code",
   "execution_count": 100,
   "metadata": {},
   "outputs": [],
   "source": [
    "writer = pd.ExcelWriter('whatever.xlsx', engine = 'openpyxl')\n",
    "df2.to_excel(writer, header = True)\n",
    "writer.save()"
   ]
  }
 ],
 "metadata": {
  "kernelspec": {
   "display_name": "Python 3",
   "language": "python",
   "name": "python3"
  },
  "language_info": {
   "codemirror_mode": {
    "name": "ipython",
    "version": 3
   },
   "file_extension": ".py",
   "mimetype": "text/x-python",
   "name": "python",
   "nbconvert_exporter": "python",
   "pygments_lexer": "ipython3",
   "version": "3.7.7"
  }
 },
 "nbformat": 4,
 "nbformat_minor": 4
}
